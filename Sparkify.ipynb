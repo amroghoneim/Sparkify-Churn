{
 "cells": [
  {
   "cell_type": "markdown",
   "metadata": {},
   "source": [
    "# Data Science NanoDegree\n",
    "\n",
    "## Sparkify Capstone Project\n",
    "\n",
    "Customer Churn, also known as Customer Attrition, is when the customer of a certain service stops using that service after a certain period of time. This proves troublesome for the service itself as it is of paramount importance to keep those customers for the sake of generating higher revenue.\n",
    "\n",
    "Predicting customer churn is therefore an important task that many companies and service providers rely on to make sure their customers won't leave or stop using their service anytime soon. To meet this end, companies rely on a huge amount of data, usually known as Big Data, generated from the interactions of its users with its services, then analyze and model this data to be able to predict imminent churn for any given user.\n",
    "\n",
    "In this Notebook, I will be using a dataset mimicking the interactions the users might have with popular music streaming services. The Sparkify dataset used here is a subset (128 MB) of the original (12 GB) dataset.\n",
    "\n",
    "I will guide you through a machine learning solution created with Apache Spark's python API PySpark. I will explore, wrangle and model the dataset for the purpose of predicting users who will churn."
   ]
  },
  {
   "cell_type": "markdown",
   "metadata": {},
   "source": [
    "## Importing Libraries and Creating a Spark Session"
   ]
  },
  {
   "cell_type": "code",
   "execution_count": 5,
   "metadata": {},
   "outputs": [],
   "source": [
    "# import libraries\n",
    "from pyspark.sql import SparkSession\n",
    "from pyspark.sql.functions import udf\n",
    "from pyspark.sql.types import StringType, IntegerType, FloatType\n",
    "from pyspark.sql.functions import desc, asc, sum as Fsum, col, max as Fmax, when\n",
    "from pyspark.ml.feature import Normalizer, PCA, StandardScaler, VectorAssembler, MinMaxScaler\n",
    "from pyspark.ml.classification import LogisticRegression, DecisionTreeClassifier, GBTClassifier, RandomForestClassifier\n",
    "from pyspark.ml.evaluation import BinaryClassificationEvaluator\n",
    "from pyspark.mllib.evaluation import BinaryClassificationMetrics\n",
    "from pyspark.ml.tuning import ParamGridBuilder, TrainValidationSplit, CrossValidator\n",
    "from sklearn.metrics import f1_score, recall_score, precision_score\n",
    "\n",
    "import sklearn.metrics as metrics\n",
    "\n",
    "import numpy as np\n",
    "import pandas as pd\n",
    "%matplotlib inline\n",
    "import matplotlib.pyplot as plt"
   ]
  },
  {
   "cell_type": "code",
   "execution_count": 6,
   "metadata": {},
   "outputs": [],
   "source": [
    "# create a Spark session\n",
    "spark = SparkSession \\\n",
    "    .builder \\\n",
    "    .appName(\"Wrangling Data\") \\\n",
    "    .getOrCreate()"
   ]
  },
  {
   "cell_type": "markdown",
   "metadata": {},
   "source": [
    "# Load and Clean Dataset\n"
   ]
  },
  {
   "cell_type": "markdown",
   "metadata": {},
   "source": [
    "In this section, I loaded the dataset using spark and cleaned the dataset from any potentially irrelevant data/users and removed any existing duplicate records"
   ]
  },
  {
   "cell_type": "code",
   "execution_count": 7,
   "metadata": {},
   "outputs": [],
   "source": [
    "path = \"mini_sparkify_event_data.json\"\n",
    "user_log = spark.read.json(path)"
   ]
  },
  {
   "cell_type": "code",
   "execution_count": 8,
   "metadata": {},
   "outputs": [
    {
     "data": {
      "text/plain": [
       "DataFrame[artist: string, auth: string, firstName: string, gender: string, itemInSession: bigint, lastName: string, length: double, level: string, location: string, method: string, page: string, registration: bigint, sessionId: bigint, song: string, status: bigint, ts: bigint, userAgent: string, userId: string]"
      ]
     },
     "execution_count": 8,
     "metadata": {},
     "output_type": "execute_result"
    }
   ],
   "source": [
    "user_log.persist()"
   ]
  },
  {
   "cell_type": "code",
   "execution_count": 9,
   "metadata": {},
   "outputs": [
    {
     "name": "stdout",
     "output_type": "stream",
     "text": [
      "+----------------+---------+---------+------+-------------+--------+---------+-----+--------------------+------+--------+-------------+---------+--------------------+------+-------------+--------------------+------+\n",
      "|          artist|     auth|firstName|gender|itemInSession|lastName|   length|level|            location|method|    page| registration|sessionId|                song|status|           ts|           userAgent|userId|\n",
      "+----------------+---------+---------+------+-------------+--------+---------+-----+--------------------+------+--------+-------------+---------+--------------------+------+-------------+--------------------+------+\n",
      "|  Martha Tilston|Logged In|    Colin|     M|           50| Freeman|277.89016| paid|     Bakersfield, CA|   PUT|NextSong|1538173362000|       29|           Rockpools|   200|1538352117000|Mozilla/5.0 (Wind...|    30|\n",
      "|Five Iron Frenzy|Logged In|    Micah|     M|           79|    Long|236.09424| free|Boston-Cambridge-...|   PUT|NextSong|1538331630000|        8|              Canada|   200|1538352180000|\"Mozilla/5.0 (Win...|     9|\n",
      "|    Adam Lambert|Logged In|    Colin|     M|           51| Freeman| 282.8273| paid|     Bakersfield, CA|   PUT|NextSong|1538173362000|       29|   Time For Miracles|   200|1538352394000|Mozilla/5.0 (Wind...|    30|\n",
      "|          Enigma|Logged In|    Micah|     M|           80|    Long|262.71302| free|Boston-Cambridge-...|   PUT|NextSong|1538331630000|        8|Knocking On Forbi...|   200|1538352416000|\"Mozilla/5.0 (Win...|     9|\n",
      "|       Daft Punk|Logged In|    Colin|     M|           52| Freeman|223.60771| paid|     Bakersfield, CA|   PUT|NextSong|1538173362000|       29|Harder Better Fas...|   200|1538352676000|Mozilla/5.0 (Wind...|    30|\n",
      "+----------------+---------+---------+------+-------------+--------+---------+-----+--------------------+------+--------+-------------+---------+--------------------+------+-------------+--------------------+------+\n",
      "only showing top 5 rows\n",
      "\n"
     ]
    }
   ],
   "source": [
    "user_log.show(5)"
   ]
  },
  {
   "cell_type": "code",
   "execution_count": 6,
   "metadata": {},
   "outputs": [],
   "source": [
    "user_log_pd = user_log.toPandas()"
   ]
  },
  {
   "cell_type": "code",
   "execution_count": 7,
   "metadata": {},
   "outputs": [
    {
     "data": {
      "text/html": [
       "<div>\n",
       "<style scoped>\n",
       "    .dataframe tbody tr th:only-of-type {\n",
       "        vertical-align: middle;\n",
       "    }\n",
       "\n",
       "    .dataframe tbody tr th {\n",
       "        vertical-align: top;\n",
       "    }\n",
       "\n",
       "    .dataframe thead th {\n",
       "        text-align: right;\n",
       "    }\n",
       "</style>\n",
       "<table border=\"1\" class=\"dataframe\">\n",
       "  <thead>\n",
       "    <tr style=\"text-align: right;\">\n",
       "      <th></th>\n",
       "      <th>artist</th>\n",
       "      <th>auth</th>\n",
       "      <th>firstName</th>\n",
       "      <th>gender</th>\n",
       "      <th>itemInSession</th>\n",
       "      <th>lastName</th>\n",
       "      <th>length</th>\n",
       "      <th>level</th>\n",
       "      <th>location</th>\n",
       "      <th>method</th>\n",
       "      <th>page</th>\n",
       "      <th>registration</th>\n",
       "      <th>sessionId</th>\n",
       "      <th>song</th>\n",
       "      <th>status</th>\n",
       "      <th>ts</th>\n",
       "      <th>userAgent</th>\n",
       "      <th>userId</th>\n",
       "    </tr>\n",
       "  </thead>\n",
       "  <tbody>\n",
       "    <tr>\n",
       "      <th>0</th>\n",
       "      <td>Martha Tilston</td>\n",
       "      <td>Logged In</td>\n",
       "      <td>Colin</td>\n",
       "      <td>M</td>\n",
       "      <td>50</td>\n",
       "      <td>Freeman</td>\n",
       "      <td>277.89016</td>\n",
       "      <td>paid</td>\n",
       "      <td>Bakersfield, CA</td>\n",
       "      <td>PUT</td>\n",
       "      <td>NextSong</td>\n",
       "      <td>1.538173e+12</td>\n",
       "      <td>29</td>\n",
       "      <td>Rockpools</td>\n",
       "      <td>200</td>\n",
       "      <td>1538352117000</td>\n",
       "      <td>Mozilla/5.0 (Windows NT 6.1; WOW64; rv:31.0) G...</td>\n",
       "      <td>30</td>\n",
       "    </tr>\n",
       "    <tr>\n",
       "      <th>1</th>\n",
       "      <td>Five Iron Frenzy</td>\n",
       "      <td>Logged In</td>\n",
       "      <td>Micah</td>\n",
       "      <td>M</td>\n",
       "      <td>79</td>\n",
       "      <td>Long</td>\n",
       "      <td>236.09424</td>\n",
       "      <td>free</td>\n",
       "      <td>Boston-Cambridge-Newton, MA-NH</td>\n",
       "      <td>PUT</td>\n",
       "      <td>NextSong</td>\n",
       "      <td>1.538332e+12</td>\n",
       "      <td>8</td>\n",
       "      <td>Canada</td>\n",
       "      <td>200</td>\n",
       "      <td>1538352180000</td>\n",
       "      <td>\"Mozilla/5.0 (Windows NT 6.1; WOW64) AppleWebK...</td>\n",
       "      <td>9</td>\n",
       "    </tr>\n",
       "    <tr>\n",
       "      <th>2</th>\n",
       "      <td>Adam Lambert</td>\n",
       "      <td>Logged In</td>\n",
       "      <td>Colin</td>\n",
       "      <td>M</td>\n",
       "      <td>51</td>\n",
       "      <td>Freeman</td>\n",
       "      <td>282.82730</td>\n",
       "      <td>paid</td>\n",
       "      <td>Bakersfield, CA</td>\n",
       "      <td>PUT</td>\n",
       "      <td>NextSong</td>\n",
       "      <td>1.538173e+12</td>\n",
       "      <td>29</td>\n",
       "      <td>Time For Miracles</td>\n",
       "      <td>200</td>\n",
       "      <td>1538352394000</td>\n",
       "      <td>Mozilla/5.0 (Windows NT 6.1; WOW64; rv:31.0) G...</td>\n",
       "      <td>30</td>\n",
       "    </tr>\n",
       "    <tr>\n",
       "      <th>3</th>\n",
       "      <td>Enigma</td>\n",
       "      <td>Logged In</td>\n",
       "      <td>Micah</td>\n",
       "      <td>M</td>\n",
       "      <td>80</td>\n",
       "      <td>Long</td>\n",
       "      <td>262.71302</td>\n",
       "      <td>free</td>\n",
       "      <td>Boston-Cambridge-Newton, MA-NH</td>\n",
       "      <td>PUT</td>\n",
       "      <td>NextSong</td>\n",
       "      <td>1.538332e+12</td>\n",
       "      <td>8</td>\n",
       "      <td>Knocking On Forbidden Doors</td>\n",
       "      <td>200</td>\n",
       "      <td>1538352416000</td>\n",
       "      <td>\"Mozilla/5.0 (Windows NT 6.1; WOW64) AppleWebK...</td>\n",
       "      <td>9</td>\n",
       "    </tr>\n",
       "    <tr>\n",
       "      <th>4</th>\n",
       "      <td>Daft Punk</td>\n",
       "      <td>Logged In</td>\n",
       "      <td>Colin</td>\n",
       "      <td>M</td>\n",
       "      <td>52</td>\n",
       "      <td>Freeman</td>\n",
       "      <td>223.60771</td>\n",
       "      <td>paid</td>\n",
       "      <td>Bakersfield, CA</td>\n",
       "      <td>PUT</td>\n",
       "      <td>NextSong</td>\n",
       "      <td>1.538173e+12</td>\n",
       "      <td>29</td>\n",
       "      <td>Harder Better Faster Stronger</td>\n",
       "      <td>200</td>\n",
       "      <td>1538352676000</td>\n",
       "      <td>Mozilla/5.0 (Windows NT 6.1; WOW64; rv:31.0) G...</td>\n",
       "      <td>30</td>\n",
       "    </tr>\n",
       "  </tbody>\n",
       "</table>\n",
       "</div>"
      ],
      "text/plain": [
       "             artist       auth firstName gender  itemInSession lastName  \\\n",
       "0    Martha Tilston  Logged In     Colin      M             50  Freeman   \n",
       "1  Five Iron Frenzy  Logged In     Micah      M             79     Long   \n",
       "2      Adam Lambert  Logged In     Colin      M             51  Freeman   \n",
       "3            Enigma  Logged In     Micah      M             80     Long   \n",
       "4         Daft Punk  Logged In     Colin      M             52  Freeman   \n",
       "\n",
       "      length level                        location method      page  \\\n",
       "0  277.89016  paid                 Bakersfield, CA    PUT  NextSong   \n",
       "1  236.09424  free  Boston-Cambridge-Newton, MA-NH    PUT  NextSong   \n",
       "2  282.82730  paid                 Bakersfield, CA    PUT  NextSong   \n",
       "3  262.71302  free  Boston-Cambridge-Newton, MA-NH    PUT  NextSong   \n",
       "4  223.60771  paid                 Bakersfield, CA    PUT  NextSong   \n",
       "\n",
       "   registration  sessionId                           song  status  \\\n",
       "0  1.538173e+12         29                      Rockpools     200   \n",
       "1  1.538332e+12          8                         Canada     200   \n",
       "2  1.538173e+12         29              Time For Miracles     200   \n",
       "3  1.538332e+12          8    Knocking On Forbidden Doors     200   \n",
       "4  1.538173e+12         29  Harder Better Faster Stronger     200   \n",
       "\n",
       "              ts                                          userAgent userId  \n",
       "0  1538352117000  Mozilla/5.0 (Windows NT 6.1; WOW64; rv:31.0) G...     30  \n",
       "1  1538352180000  \"Mozilla/5.0 (Windows NT 6.1; WOW64) AppleWebK...      9  \n",
       "2  1538352394000  Mozilla/5.0 (Windows NT 6.1; WOW64; rv:31.0) G...     30  \n",
       "3  1538352416000  \"Mozilla/5.0 (Windows NT 6.1; WOW64) AppleWebK...      9  \n",
       "4  1538352676000  Mozilla/5.0 (Windows NT 6.1; WOW64; rv:31.0) G...     30  "
      ]
     },
     "execution_count": 7,
     "metadata": {},
     "output_type": "execute_result"
    }
   ],
   "source": [
    "user_log_pd.head()"
   ]
  },
  {
   "cell_type": "code",
   "execution_count": 6,
   "metadata": {},
   "outputs": [
    {
     "name": "stdout",
     "output_type": "stream",
     "text": [
      "root\n",
      " |-- artist: string (nullable = true)\n",
      " |-- auth: string (nullable = true)\n",
      " |-- firstName: string (nullable = true)\n",
      " |-- gender: string (nullable = true)\n",
      " |-- itemInSession: long (nullable = true)\n",
      " |-- lastName: string (nullable = true)\n",
      " |-- length: double (nullable = true)\n",
      " |-- level: string (nullable = true)\n",
      " |-- location: string (nullable = true)\n",
      " |-- method: string (nullable = true)\n",
      " |-- page: string (nullable = true)\n",
      " |-- registration: long (nullable = true)\n",
      " |-- sessionId: long (nullable = true)\n",
      " |-- song: string (nullable = true)\n",
      " |-- status: long (nullable = true)\n",
      " |-- ts: long (nullable = true)\n",
      " |-- userAgent: string (nullable = true)\n",
      " |-- userId: string (nullable = true)\n",
      "\n"
     ]
    }
   ],
   "source": [
    "user_log.printSchema()"
   ]
  },
  {
   "cell_type": "markdown",
   "metadata": {},
   "source": [
    "#### Number of user interactions in the dataset"
   ]
  },
  {
   "cell_type": "code",
   "execution_count": 7,
   "metadata": {},
   "outputs": [
    {
     "data": {
      "text/plain": [
       "286500"
      ]
     },
     "execution_count": 7,
     "metadata": {},
     "output_type": "execute_result"
    }
   ],
   "source": [
    "user_log.count()"
   ]
  },
  {
   "cell_type": "code",
   "execution_count": 8,
   "metadata": {},
   "outputs": [
    {
     "name": "stdout",
     "output_type": "stream",
     "text": [
      "+-------+-----------------+\n",
      "|summary|           userId|\n",
      "+-------+-----------------+\n",
      "|  count|           286500|\n",
      "|   mean|59682.02278593872|\n",
      "| stddev|109091.9499991047|\n",
      "|    min|                 |\n",
      "|    max|               99|\n",
      "+-------+-----------------+\n",
      "\n"
     ]
    }
   ],
   "source": [
    "user_log.describe('userId').show()"
   ]
  },
  {
   "cell_type": "code",
   "execution_count": 11,
   "metadata": {},
   "outputs": [
    {
     "data": {
      "text/plain": [
       "226"
      ]
     },
     "execution_count": 11,
     "metadata": {},
     "output_type": "execute_result"
    }
   ],
   "source": [
    "user_log.select('userId')\\\n",
    "  .dropDuplicates()\\\n",
    "  .count()"
   ]
  },
  {
   "cell_type": "code",
   "execution_count": 12,
   "metadata": {},
   "outputs": [
    {
     "name": "stdout",
     "output_type": "stream",
     "text": [
      "+------+-----+\n",
      "|userId|count|\n",
      "+------+-----+\n",
      "|    39| 9632|\n",
      "|      | 8346|\n",
      "|    92| 7230|\n",
      "|   140| 6880|\n",
      "|300011| 5732|\n",
      "|   124| 4825|\n",
      "|300021| 4659|\n",
      "|300017| 4428|\n",
      "|    85| 4370|\n",
      "|    42| 4257|\n",
      "+------+-----+\n",
      "only showing top 10 rows\n",
      "\n"
     ]
    }
   ],
   "source": [
    "user_log.groupBy('userId') \\\n",
    "  .count()\\\n",
    "  .sort(desc(\"count\"))\\\n",
    "  .show(10)"
   ]
  },
  {
   "cell_type": "markdown",
   "metadata": {},
   "source": [
    "#### it appears we have an empty string that pops up in the user log data more than 8000 times\n",
    "<br>\n",
    "<br>\n",
    "<br>\n"
   ]
  },
  {
   "cell_type": "code",
   "execution_count": 13,
   "metadata": {},
   "outputs": [
    {
     "name": "stdout",
     "output_type": "stream",
     "text": [
      "+-------------------+-----+\n",
      "|               page|count|\n",
      "+-------------------+-----+\n",
      "|               Home| 4375|\n",
      "|              Login| 3241|\n",
      "|              About|  429|\n",
      "|               Help|  272|\n",
      "|           Register|   18|\n",
      "|              Error|    6|\n",
      "|Submit Registration|    5|\n",
      "+-------------------+-----+\n",
      "\n"
     ]
    }
   ],
   "source": [
    "user_log.filter(user_log.userId=='') \\\n",
    "  .groupBy('page') \\\n",
    "  .count()\\\n",
    "  .sort(desc(\"count\"))\\\n",
    "  .show()"
   ]
  },
  {
   "cell_type": "markdown",
   "metadata": {},
   "source": [
    "#### empty string user seems to be people who are not yet registered nor using the service\n",
    "<br>\n",
    "<br>\n",
    "<br>\n"
   ]
  },
  {
   "cell_type": "code",
   "execution_count": 9,
   "metadata": {},
   "outputs": [],
   "source": [
    "user_log = user_log.dropna(subset=['sessionId', 'userId'])"
   ]
  },
  {
   "cell_type": "code",
   "execution_count": 10,
   "metadata": {},
   "outputs": [],
   "source": [
    "user_log = user_log.filter(user_log[\"userId\"] != \"\")"
   ]
  },
  {
   "cell_type": "markdown",
   "metadata": {},
   "source": [
    "#### Removed the empty userId from the dataset as it will not be helpful in churn classification and prediction\n",
    "<br>\n",
    "<br>\n",
    "<br>\n"
   ]
  },
  {
   "cell_type": "code",
   "execution_count": 16,
   "metadata": {},
   "outputs": [
    {
     "data": {
      "text/plain": [
       "278154"
      ]
     },
     "execution_count": 16,
     "metadata": {},
     "output_type": "execute_result"
    }
   ],
   "source": [
    "user_log.count()"
   ]
  },
  {
   "cell_type": "markdown",
   "metadata": {},
   "source": [
    "record count after removal"
   ]
  },
  {
   "cell_type": "markdown",
   "metadata": {},
   "source": [
    "#### No missing userIds or SessionIds\n",
    "\n",
    "<br>\n",
    "<br>\n",
    "<br>\n"
   ]
  },
  {
   "cell_type": "code",
   "execution_count": 11,
   "metadata": {},
   "outputs": [],
   "source": [
    "user_log = user_log.dropDuplicates()"
   ]
  },
  {
   "cell_type": "code",
   "execution_count": 18,
   "metadata": {},
   "outputs": [
    {
     "data": {
      "text/plain": [
       "278154"
      ]
     },
     "execution_count": 18,
     "metadata": {},
     "output_type": "execute_result"
    }
   ],
   "source": [
    "user_log.count()"
   ]
  },
  {
   "cell_type": "markdown",
   "metadata": {},
   "source": [
    "#### No duplicates were found\n",
    "\n",
    "<br>\n",
    "<br>\n",
    "<br>\n"
   ]
  },
  {
   "cell_type": "markdown",
   "metadata": {},
   "source": [
    "# Exploratory Data Analysis\n",
    "\n",
    "In this section, I explore different aspects of the data and introduce the label column 'Churn' based on users who confirmed their cancellation of the service.\n"
   ]
  },
  {
   "cell_type": "code",
   "execution_count": 19,
   "metadata": {},
   "outputs": [
    {
     "data": {
      "text/plain": [
       "225"
      ]
     },
     "execution_count": 19,
     "metadata": {},
     "output_type": "execute_result"
    }
   ],
   "source": [
    "user_log.select(\"userId\").dropDuplicates().count()"
   ]
  },
  {
   "cell_type": "markdown",
   "metadata": {},
   "source": [
    "#### Total number of unique users is equal to 225\n",
    "\n",
    "<br>\n",
    "<br>\n",
    "<br>\n"
   ]
  },
  {
   "cell_type": "code",
   "execution_count": 76,
   "metadata": {},
   "outputs": [
    {
     "data": {
      "text/plain": [
       "19"
      ]
     },
     "execution_count": 76,
     "metadata": {},
     "output_type": "execute_result"
    }
   ],
   "source": [
    "user_log.select('page').dropDuplicates().count()"
   ]
  },
  {
   "cell_type": "code",
   "execution_count": 77,
   "metadata": {},
   "outputs": [
    {
     "name": "stdout",
     "output_type": "stream",
     "text": [
      "+--------------------+------+\n",
      "|                page| count|\n",
      "+--------------------+------+\n",
      "|            NextSong|228108|\n",
      "|           Thumbs Up| 12551|\n",
      "|                Home| 10082|\n",
      "|     Add to Playlist|  6526|\n",
      "|          Add Friend|  4277|\n",
      "|         Roll Advert|  3933|\n",
      "|              Logout|  3226|\n",
      "|         Thumbs Down|  2546|\n",
      "|           Downgrade|  2055|\n",
      "|            Settings|  1514|\n",
      "|                Help|  1454|\n",
      "|             Upgrade|   499|\n",
      "|               About|   495|\n",
      "|       Save Settings|   310|\n",
      "|               Error|   252|\n",
      "|      Submit Upgrade|   159|\n",
      "|    Submit Downgrade|    63|\n",
      "|              Cancel|    52|\n",
      "|Cancellation Conf...|    52|\n",
      "+--------------------+------+\n",
      "\n"
     ]
    }
   ],
   "source": [
    "user_log.groupBy('page') \\\n",
    "  .count()\\\n",
    "  .sort(desc(\"count\"))\\\n",
    "  .show(22)"
   ]
  },
  {
   "cell_type": "markdown",
   "metadata": {},
   "source": [
    "#### Inserting a new churn column where each entry in that column will be set to 1 for a user whose cancellation has been confirmed and 0 otherwise"
   ]
  },
  {
   "cell_type": "code",
   "execution_count": 12,
   "metadata": {},
   "outputs": [],
   "source": [
    "user_ids_churn = user_log.filter((user_log.page == 'Cancellation Confirmation')).collect()"
   ]
  },
  {
   "cell_type": "code",
   "execution_count": 13,
   "metadata": {},
   "outputs": [],
   "source": [
    "user_ids_churn = [x.userId for x in user_ids_churn]"
   ]
  },
  {
   "cell_type": "code",
   "execution_count": 14,
   "metadata": {},
   "outputs": [],
   "source": [
    "get_churn = udf(lambda x: 1 if x in user_ids_churn else 0 , IntegerType())"
   ]
  },
  {
   "cell_type": "code",
   "execution_count": 15,
   "metadata": {},
   "outputs": [],
   "source": [
    "user_log = user_log.withColumn(\"Churn\", get_churn(user_log.userId))"
   ]
  },
  {
   "cell_type": "code",
   "execution_count": 160,
   "metadata": {},
   "outputs": [
    {
     "name": "stdout",
     "output_type": "stream",
     "text": [
      "+---------------+---------+---------+------+-------------+--------+---------+-----+--------------------+------+-----------+-------------+---------+-----------------+------+-------------+--------------------+------+-----+\n",
      "|         artist|     auth|firstName|gender|itemInSession|lastName|   length|level|            location|method|       page| registration|sessionId|             song|status|           ts|           userAgent|userId|Churn|\n",
      "+---------------+---------+---------+------+-------------+--------+---------+-----+--------------------+------+-----------+-------------+---------+-----------------+------+-------------+--------------------+------+-----+\n",
      "|The Futureheads|Logged In|  Ainsley|     F|           80|  Farley|120.81587| free|McAllen-Edinburg-...|   PUT|   NextSong|1538304455000|      187|            Robot|   200|1538373133000|\"Mozilla/5.0 (Win...|    78|    0|\n",
      "|           null|Logged In|  Ainsley|     F|           81|  Farley|     null| free|McAllen-Edinburg-...|   PUT|Thumbs Down|1538304455000|      187|             null|   307|1538373134000|\"Mozilla/5.0 (Win...|    78|    0|\n",
      "|O'Rosko Raricim|Logged In|  Madison|     F|           74| Morales| 90.56608| paid|Tampa-St. Petersb...|   PUT|   NextSong|1536287099000|      222|    Terre Promise|   200|1538384924000|\"Mozilla/5.0 (Mac...|    25|    0|\n",
      "|    Morgan Page|Logged In|    Panav|     M|           23|   Myers|235.54567| paid|      Morgantown, WV|   PUT|   NextSong|1538239045000|      237|Strange Condition|   200|1538394878000|\"Mozilla/5.0 (Win...|    15|    0|\n",
      "|           null|Logged In|    Ethan|     M|           15| Raymond|     null| free|Hartford-West Har...|   GET|       Home|1534245996000|       26|             null|   200|1538402423000|\"Mozilla/5.0 (Win...|    27|    0|\n",
      "+---------------+---------+---------+------+-------------+--------+---------+-----+--------------------+------+-----------+-------------+---------+-----------------+------+-------------+--------------------+------+-----+\n",
      "only showing top 5 rows\n",
      "\n"
     ]
    }
   ],
   "source": [
    "user_log.show(5)"
   ]
  },
  {
   "cell_type": "code",
   "execution_count": 161,
   "metadata": {},
   "outputs": [
    {
     "data": {
      "text/plain": [
       "[Row(churn=0)]"
      ]
     },
     "execution_count": 161,
     "metadata": {},
     "output_type": "execute_result"
    }
   ],
   "source": [
    "user_log.filter(user_log.page != 'Cancellation Confirmation').select('churn').take(1)"
   ]
  },
  {
   "cell_type": "code",
   "execution_count": 162,
   "metadata": {},
   "outputs": [
    {
     "data": {
      "text/plain": [
       "[Row(churn=1)]"
      ]
     },
     "execution_count": 162,
     "metadata": {},
     "output_type": "execute_result"
    }
   ],
   "source": [
    "user_log.filter(user_log.page == 'Cancellation Confirmation').select('churn').take(1)"
   ]
  },
  {
   "cell_type": "code",
   "execution_count": 163,
   "metadata": {},
   "outputs": [
    {
     "name": "stdout",
     "output_type": "stream",
     "text": [
      "+-----+---------------+\n",
      "|churn|           page|\n",
      "+-----+---------------+\n",
      "|    1|      Thumbs Up|\n",
      "|    1|Add to Playlist|\n",
      "|    1|       NextSong|\n",
      "|    1|Add to Playlist|\n",
      "|    1|       NextSong|\n",
      "|    1|       NextSong|\n",
      "|    1|       NextSong|\n",
      "|    1|     Add Friend|\n",
      "|    1|       NextSong|\n",
      "|    1|       NextSong|\n",
      "|    1|       NextSong|\n",
      "|    1|       NextSong|\n",
      "|    1|       NextSong|\n",
      "|    1|       NextSong|\n",
      "|    1|       NextSong|\n",
      "|    1|       NextSong|\n",
      "|    1|       NextSong|\n",
      "|    1|       NextSong|\n",
      "|    1|     Add Friend|\n",
      "|    1|       NextSong|\n",
      "+-----+---------------+\n",
      "only showing top 20 rows\n",
      "\n"
     ]
    }
   ],
   "source": [
    "user_log.filter((user_log.userId == '18') ).select('churn', 'page').show()"
   ]
  },
  {
   "cell_type": "markdown",
   "metadata": {},
   "source": [
    "Example of a user who churned"
   ]
  },
  {
   "cell_type": "code",
   "execution_count": 164,
   "metadata": {},
   "outputs": [
    {
     "name": "stdout",
     "output_type": "stream",
     "text": [
      "+-----+-----------+\n",
      "|churn|       page|\n",
      "+-----+-----------+\n",
      "|    0|  Downgrade|\n",
      "|    0|   NextSong|\n",
      "|    0|   NextSong|\n",
      "|    0|     Logout|\n",
      "|    0|   NextSong|\n",
      "|    0|   NextSong|\n",
      "|    0|   NextSong|\n",
      "|    0|   NextSong|\n",
      "|    0|     Logout|\n",
      "|    0|   NextSong|\n",
      "|    0|   NextSong|\n",
      "|    0|   NextSong|\n",
      "|    0|Roll Advert|\n",
      "|    0|   NextSong|\n",
      "|    0|   NextSong|\n",
      "|    0|   NextSong|\n",
      "|    0|   NextSong|\n",
      "|    0|   NextSong|\n",
      "|    0|   NextSong|\n",
      "|    0|   NextSong|\n",
      "+-----+-----------+\n",
      "only showing top 20 rows\n",
      "\n"
     ]
    }
   ],
   "source": [
    "user_log.filter((user_log.userId == '30') ).select('churn', 'page').show()"
   ]
  },
  {
   "cell_type": "markdown",
   "metadata": {},
   "source": [
    "Example of a user who did not churn"
   ]
  },
  {
   "cell_type": "code",
   "execution_count": 21,
   "metadata": {},
   "outputs": [
    {
     "data": {
      "image/png": "[encoded data removed]",
      "text/plain": [
       "<matplotlib.figure.Figure at 0x7ff7f4716c88>"
      ]
     },
     "metadata": {
      "needs_background": "light"
     },
     "output_type": "display_data"
    }
   ],
   "source": [
    "userIds_no_churn = user_log.filter(user_log.Churn == 0)\\\n",
    "                   .select('userId')\\\n",
    "                   .dropDuplicates()\\\n",
    "\n",
    "userIds_no_churn_num = userIds_no_churn.count()\n",
    "\n",
    "userIds_churn = user_log.filter(user_log.Churn == 1).select('userId').dropDuplicates()\n",
    "\n",
    "userIds_churn_num = userIds_churn.count()\n",
    "\n",
    "userIds_churn_num, userIds_no_churn_num\n",
    "\n",
    "plt.bar([1, 2], [userIds_churn_num, userIds_no_churn_num]\\\n",
    "        , tick_label=['churn', 'no churn']\\\n",
    "        , align='center'\\\n",
    "        , color=['purple', 'yellow'])\n",
    "\n",
    "\n",
    "plt.title(\"Plot of the number of users of who churned vs those who didn't\")\n",
    "plt.show()\n"
   ]
  },
  {
   "cell_type": "markdown",
   "metadata": {},
   "source": [
    "### Case of imbalanced data set where more users did not churn that those who did\n",
    "\n",
    "<br>\n",
    "<br>\n",
    "<br>\n"
   ]
  },
  {
   "cell_type": "code",
   "execution_count": 22,
   "metadata": {},
   "outputs": [
    {
     "data": {
      "image/png": "[encoded data removed]",
      "text/plain": [
       "<matplotlib.figure.Figure at 0x7ff807dc4400>"
      ]
     },
     "metadata": {
      "needs_background": "light"
     },
     "output_type": "display_data"
    }
   ],
   "source": [
    "churn_songs_count = user_log.filter((user_log.Churn == 1) & (user_log.page == 'NextSong')).count()\n",
    "\n",
    "no_churn_songs_count = user_log.filter((user_log.Churn == 0) & (user_log.page == 'NextSong')).count()\n",
    "\n",
    "plt.bar([1, 2], [churn_songs_count, no_churn_songs_count],\\\n",
    "        tick_label=['churn songs count', 'no churn songs count'],\\\n",
    "        align='center',\\\n",
    "        color=['purple', 'yellow'])\n",
    "plt.show()"
   ]
  },
  {
   "cell_type": "markdown",
   "metadata": {},
   "source": [
    "### Amount of songs listened to by users who churned are much less that of users who didn't\n",
    "\n",
    "<br>\n",
    "<br>\n",
    "<br>\n"
   ]
  },
  {
   "cell_type": "code",
   "execution_count": 25,
   "metadata": {},
   "outputs": [
    {
     "data": {
      "image/png": "[encoded data removed]",
      "text/plain": [
       "<matplotlib.figure.Figure at 0x7ff7f7902898>"
      ]
     },
     "metadata": {
      "needs_background": "light"
     },
     "output_type": "display_data"
    }
   ],
   "source": [
    "churn_ad = user_log.filter((user_log.Churn == 1) & (user_log.page == 'Roll Advert')).count() / userIds_churn_num\n",
    "\n",
    "no_churn_ad = user_log.filter((user_log.Churn == 0) & (user_log.page == 'Roll Advert')).count() / userIds_no_churn_num\n",
    "\n",
    "plt.bar([1, 2], [churn_ad, no_churn_ad],\\\n",
    "        tick_label=['avg churn adverts', 'avg no churn adverts'],\\\n",
    "        align='center',\\\n",
    "        color=['purple', 'yellow'])\n",
    "plt.show()"
   ]
  },
  {
   "cell_type": "markdown",
   "metadata": {},
   "source": [
    "### Users who churned get around 19 ads on average, two more than those who didn't\n",
    "\n",
    "<br>\n",
    "<br>\n",
    "<br>\n"
   ]
  },
  {
   "cell_type": "code",
   "execution_count": 26,
   "metadata": {},
   "outputs": [
    {
     "data": {
      "image/png": "[encoded data removed]",
      "text/plain": [
       "<matplotlib.figure.Figure at 0x7ff7f7099940>"
      ]
     },
     "metadata": {
      "needs_background": "light"
     },
     "output_type": "display_data"
    }
   ],
   "source": [
    "churn_F = user_log.filter((user_log.Churn == 1) & (user_log.gender == 'F')).select('userId').dropDuplicates().count()\n",
    "\n",
    "churn_M = user_log.filter((user_log.Churn == 1) & (user_log.gender == 'M')).select('userId').dropDuplicates().count()\n",
    "\n",
    "no_churn_F = user_log.filter((user_log.Churn == 0) & (user_log.gender == 'F')).select('userId').dropDuplicates().count()\n",
    "\n",
    "no_churn_M = user_log.filter((user_log.Churn == 0) & (user_log.gender == 'M')).select('userId').dropDuplicates().count()\n",
    "\n",
    "plt.bar([1, 2, 3, 4], [no_churn_F,no_churn_M, churn_F, churn_M],\\\n",
    "        tick_label=['no churn F', 'no churn M', 'churn F', 'churn M'],\\\n",
    "        align='center',\\\n",
    "        color=['purple', 'yellow'])\n",
    "plt.show()"
   ]
  },
  {
   "cell_type": "code",
   "execution_count": 180,
   "metadata": {},
   "outputs": [
    {
     "name": "stdout",
     "output_type": "stream",
     "text": [
      "M-F ratio for users who churned: 1.6\n"
     ]
    }
   ],
   "source": [
    "print('M-F ratio for users who churned: {}'.format(churn_M/churn_F))"
   ]
  },
  {
   "cell_type": "code",
   "execution_count": 181,
   "metadata": {},
   "outputs": [
    {
     "name": "stdout",
     "output_type": "stream",
     "text": [
      "M-F ratio for users who did not churn: 1.0595238095238095\n"
     ]
    }
   ],
   "source": [
    "print('M-F ratio for users who did not churn: {}'.format(no_churn_M/no_churn_F))"
   ]
  },
  {
   "cell_type": "markdown",
   "metadata": {},
   "source": [
    "### Slightly higher ratio of Males to Females for user who churned to that of users who didn't\n",
    "\n",
    "<br>\n",
    "<br>\n",
    "<br>\n"
   ]
  },
  {
   "cell_type": "code",
   "execution_count": 27,
   "metadata": {},
   "outputs": [
    {
     "name": "stdout",
     "output_type": "stream",
     "text": [
      "35.75\n",
      "61.80346820809248\n"
     ]
    },
    {
     "data": {
      "image/png": "[encoded data removed]",
      "text/plain": [
       "<matplotlib.figure.Figure at 0x7ff7f707c390>"
      ]
     },
     "metadata": {
      "needs_background": "light"
     },
     "output_type": "display_data"
    }
   ],
   "source": [
    "sum_churn_thumbsup = user_log.filter((user_log.Churn == 1) & (user_log.page == 'Thumbs Up'))\\\n",
    "                    .groupBy('userId')\\\n",
    "                    .count()\\\n",
    "                    .select('count')\\\n",
    "                    .agg(Fsum('count'))\\\n",
    "                    .collect()\n",
    "\n",
    "avg_churn_thumbsup = sum_churn_thumbsup[0]['sum(count)'] / userIds_churn_num\n",
    "print(avg_churn_thumbsup)\n",
    "\n",
    "sum_no_churn_thumbsup = user_log.filter((user_log.Churn == 0) & (user_log.page == 'Thumbs Up'))\\\n",
    "                    .groupBy('userId')\\\n",
    "                    .count()\\\n",
    "                    .select('count')\\\n",
    "                    .agg(Fsum('count'))\\\n",
    "                    .collect()\n",
    "\n",
    "avg_no_churn_thumbsup = sum_no_churn_thumbsup[0]['sum(count)'] / userIds_no_churn_num\n",
    "print(avg_no_churn_thumbsup)\n",
    "\n",
    "plt.bar([1, 2], [avg_churn_thumbsup,avg_no_churn_thumbsup], \\\n",
    "        tick_label=['avg churn thumbs up', 'avg no churn thumbs up'], \\\n",
    "        align='center' , \\\n",
    "        color=['purple', 'yellow'])\n",
    "plt.show()"
   ]
  },
  {
   "cell_type": "markdown",
   "metadata": {},
   "source": [
    "### users who did not churn gave almost twice the number of thumbs up as those who did on average\n",
    "<br>\n",
    "<br>\n",
    "<br>\n"
   ]
  },
  {
   "cell_type": "markdown",
   "metadata": {},
   "source": [
    "# Feature Engineering\n"
   ]
  },
  {
   "cell_type": "markdown",
   "metadata": {},
   "source": [
    "In this section, I create different features to be used for modeling after exploring and understanding the data and the differentiating behaviours and patterns of both users who churn and users who don't"
   ]
  },
  {
   "cell_type": "code",
   "execution_count": 49,
   "metadata": {},
   "outputs": [
    {
     "data": {
      "text/plain": [
       "Row(artist='The Futureheads', auth='Logged In', firstName='Ainsley', gender='F', itemInSession=80, lastName='Farley', length=120.81587, level='free', location='McAllen-Edinburg-Mission, TX', method='PUT', page='NextSong', registration=1538304455000, sessionId=187, song='Robot', status=200, ts=1538373133000, userAgent='\"Mozilla/5.0 (Windows NT 6.1; WOW64) AppleWebKit/537.36 (KHTML, like Gecko) Chrome/37.0.2062.94 Safari/537.36\"', userId='78', Churn=0)"
      ]
     },
     "execution_count": 49,
     "metadata": {},
     "output_type": "execute_result"
    }
   ],
   "source": [
    "user_log.head()"
   ]
  },
  {
   "cell_type": "markdown",
   "metadata": {},
   "source": [
    "### Song Count feature"
   ]
  },
  {
   "cell_type": "markdown",
   "metadata": {},
   "source": [
    "Adding the number of songs each user has listened to throughout the dataset"
   ]
  },
  {
   "cell_type": "code",
   "execution_count": 45,
   "metadata": {},
   "outputs": [],
   "source": [
    "song_count = user_log.filter(user_log.song != '').groupBy(col('userId')).count().withColumnRenamed(\"count\", \"Songs\")"
   ]
  },
  {
   "cell_type": "code",
   "execution_count": 51,
   "metadata": {},
   "outputs": [
    {
     "data": {
      "text/plain": [
       "225"
      ]
     },
     "execution_count": 51,
     "metadata": {},
     "output_type": "execute_result"
    }
   ],
   "source": [
    "song_count.count()"
   ]
  },
  {
   "cell_type": "code",
   "execution_count": 52,
   "metadata": {},
   "outputs": [
    {
     "data": {
      "text/plain": [
       "[Row(userId='100010', Songs=275),\n",
       " Row(userId='200002', Songs=387),\n",
       " Row(userId='125', Songs=8),\n",
       " Row(userId='51', Songs=2111),\n",
       " Row(userId='124', Songs=4079)]"
      ]
     },
     "execution_count": 52,
     "metadata": {},
     "output_type": "execute_result"
    }
   ],
   "source": [
    "song_count.head(5)"
   ]
  },
  {
   "cell_type": "markdown",
   "metadata": {},
   "source": [
    "### Thumbs Up Count feature"
   ]
  },
  {
   "cell_type": "markdown",
   "metadata": {},
   "source": [
    "Adding the number of Thumbs Up each user has given"
   ]
  },
  {
   "cell_type": "code",
   "execution_count": 46,
   "metadata": {},
   "outputs": [],
   "source": [
    "# Thumbs Up\n",
    "user_log = user_log.withColumn('ThumbsUp', (when(col('page')== 'Thumbs Up',1)\\\n",
    "                                                            .otherwise(0)))\n",
    "thumbsup_count = user_log.groupby('userId')\\\n",
    "                       .agg(Fsum('ThumbsUp')\\\n",
    "                       .alias('countThumbsUp'))"
   ]
  },
  {
   "cell_type": "code",
   "execution_count": 54,
   "metadata": {},
   "outputs": [
    {
     "data": {
      "text/plain": [
       "[Row(userId='100010', countThumbsUp=17),\n",
       " Row(userId='200002', countThumbsUp=21),\n",
       " Row(userId='125', countThumbsUp=0),\n",
       " Row(userId='51', countThumbsUp=100),\n",
       " Row(userId='124', countThumbsUp=171)]"
      ]
     },
     "execution_count": 54,
     "metadata": {},
     "output_type": "execute_result"
    }
   ],
   "source": [
    "thumbsup_count.head(5)"
   ]
  },
  {
   "cell_type": "code",
   "execution_count": 55,
   "metadata": {},
   "outputs": [
    {
     "data": {
      "text/plain": [
       "225"
      ]
     },
     "execution_count": 55,
     "metadata": {},
     "output_type": "execute_result"
    }
   ],
   "source": [
    "thumbsup_count.count()"
   ]
  },
  {
   "cell_type": "code",
   "execution_count": 48,
   "metadata": {},
   "outputs": [],
   "source": [
    "# joining the song count and thumbs up feature \n",
    "df_song_thumbs_up = song_count.join(thumbsup_count, on=['userId'])"
   ]
  },
  {
   "cell_type": "code",
   "execution_count": 57,
   "metadata": {},
   "outputs": [
    {
     "data": {
      "text/plain": [
       "225"
      ]
     },
     "execution_count": 57,
     "metadata": {},
     "output_type": "execute_result"
    }
   ],
   "source": [
    "df_song_thumbs_up.count()"
   ]
  },
  {
   "cell_type": "code",
   "execution_count": 58,
   "metadata": {},
   "outputs": [
    {
     "data": {
      "text/plain": [
       "[Row(userId='100010', Songs=275, countThumbsUp=17),\n",
       " Row(userId='200002', Songs=387, countThumbsUp=21),\n",
       " Row(userId='125', Songs=8, countThumbsUp=0),\n",
       " Row(userId='51', Songs=2111, countThumbsUp=100),\n",
       " Row(userId='124', Songs=4079, countThumbsUp=171)]"
      ]
     },
     "execution_count": 58,
     "metadata": {},
     "output_type": "execute_result"
    }
   ],
   "source": [
    "df_song_thumbs_up.head(5)"
   ]
  },
  {
   "cell_type": "markdown",
   "metadata": {},
   "source": [
    "### Thumbs Down Count feature"
   ]
  },
  {
   "cell_type": "markdown",
   "metadata": {},
   "source": [
    "Adding the number of Thumbs Down each user has given"
   ]
  },
  {
   "cell_type": "code",
   "execution_count": 49,
   "metadata": {},
   "outputs": [],
   "source": [
    "# Thumbs Down\n",
    "user_log = user_log.withColumn('ThumbsDown', (when(col('page')== 'Thumbs Down',1)\\\n",
    "                                                            .otherwise(0)))\n",
    "thumbsdown_count = user_log.groupby('userId')\\\n",
    "                       .agg(Fsum('ThumbsDown')\\\n",
    "                       .alias('countThumbsDown'))"
   ]
  },
  {
   "cell_type": "code",
   "execution_count": 50,
   "metadata": {},
   "outputs": [],
   "source": [
    "# joining the previous features and thumbs Down feature \n",
    "df_song_thumbs_up_down = df_song_thumbs_up.join(thumbsdown_count, on=['userId'])"
   ]
  },
  {
   "cell_type": "code",
   "execution_count": 61,
   "metadata": {},
   "outputs": [
    {
     "data": {
      "text/plain": [
       "225"
      ]
     },
     "execution_count": 61,
     "metadata": {},
     "output_type": "execute_result"
    }
   ],
   "source": [
    "df_song_thumbs_up_down.count()"
   ]
  },
  {
   "cell_type": "markdown",
   "metadata": {},
   "source": [
    "### Total Thumbs Count feature"
   ]
  },
  {
   "cell_type": "markdown",
   "metadata": {},
   "source": [
    "Adding the Total number of Thumbs Up / Thumbs Down for each user. One way of measuring the amount of interaction each user had"
   ]
  },
  {
   "cell_type": "code",
   "execution_count": 51,
   "metadata": {},
   "outputs": [],
   "source": [
    "count_total_thumbs = udf(lambda x, y: x+y , IntegerType())"
   ]
  },
  {
   "cell_type": "code",
   "execution_count": 52,
   "metadata": {},
   "outputs": [],
   "source": [
    "df_song_thumbs_up_down_tot = df_song_thumbs_up_down.withColumn('countTotalThumbs',\\\n",
    "                                                           count_total_thumbs(df_song_thumbs_up_down['countThumbsUp']\\\n",
    "                                                                              ,df_song_thumbs_up_down['countThumbsDown']))"
   ]
  },
  {
   "cell_type": "code",
   "execution_count": 53,
   "metadata": {},
   "outputs": [
    {
     "name": "stdout",
     "output_type": "stream",
     "text": [
      "+------+-----+-------------+---------------+----------------+\n",
      "|userId|Songs|countThumbsUp|countThumbsDown|countTotalThumbs|\n",
      "+------+-----+-------------+---------------+----------------+\n",
      "|100010|  275|           17|              5|              22|\n",
      "|200002|  387|           21|              6|              27|\n",
      "+------+-----+-------------+---------------+----------------+\n",
      "only showing top 2 rows\n",
      "\n"
     ]
    }
   ],
   "source": [
    "df_song_thumbs_up_down_tot.show(2)"
   ]
  },
  {
   "cell_type": "markdown",
   "metadata": {},
   "source": [
    "### Number of Friends feature"
   ]
  },
  {
   "cell_type": "markdown",
   "metadata": {},
   "source": [
    "Adding the number of friends each user has"
   ]
  },
  {
   "cell_type": "code",
   "execution_count": 54,
   "metadata": {},
   "outputs": [],
   "source": [
    "num_friends = user_log\\\n",
    "                   .filter(user_log.page==\"Add Friend\")\\\n",
    "                   .groupBy('userId')\\\n",
    "                   .count()\\\n",
    "                   .withColumnRenamed(\"count\",\"countFriends\")\n",
    "\n",
    "# joining the previous features and the number of friends feature \n",
    "df_song_thumbs_up_down_tot_fr = df_song_thumbs_up_down_tot.join(num_friends, 'userId', how='left').fillna(0)"
   ]
  },
  {
   "cell_type": "markdown",
   "metadata": {},
   "source": [
    "### Number of Logins feature"
   ]
  },
  {
   "cell_type": "markdown",
   "metadata": {},
   "source": [
    "Adding the number of times each user logged in to the service"
   ]
  },
  {
   "cell_type": "code",
   "execution_count": 55,
   "metadata": {},
   "outputs": [],
   "source": [
    "num_logins = user_log\\\n",
    "                   .select('userId','sessionId')\\\n",
    "                   .dropDuplicates()\\\n",
    "                   .groupBy('userId')\\\n",
    "                   .count()\\\n",
    "                   .withColumnRenamed(\"count\",\"countLogins\")\n",
    "\n",
    "# joining the previous features and Number of logins feature \n",
    "df_song_thumbs_up_down_tot_fr_log = df_song_thumbs_up_down_tot_fr.join(num_logins, 'userId')"
   ]
  },
  {
   "cell_type": "code",
   "execution_count": 69,
   "metadata": {},
   "outputs": [
    {
     "data": {
      "text/plain": [
       "225"
      ]
     },
     "execution_count": 69,
     "metadata": {},
     "output_type": "execute_result"
    }
   ],
   "source": [
    "df_song_thumbs_up_down_tot_fr_log.count()"
   ]
  },
  {
   "cell_type": "markdown",
   "metadata": {},
   "source": [
    "### Number of errors feature"
   ]
  },
  {
   "cell_type": "markdown",
   "metadata": {},
   "source": [
    "Adding the number of errors each user encountered while using the service"
   ]
  },
  {
   "cell_type": "code",
   "execution_count": 56,
   "metadata": {},
   "outputs": [],
   "source": [
    "num_errors = user_log\\\n",
    "                   .filter(user_log.page==\"Error\")\\\n",
    "                   .groupBy('userId')\\\n",
    "                   .count()\\\n",
    "                   .withColumnRenamed(\"count\",\"countErrors\")\n",
    "\n",
    "# joining the previous features and Number of errors feature \n",
    "df_song_thumbs_up_down_tot_fr_log_err = df_song_thumbs_up_down_tot_fr_log.join(num_errors, 'userId', how='left').fillna(0)"
   ]
  },
  {
   "cell_type": "markdown",
   "metadata": {},
   "source": [
    "### Churn column"
   ]
  },
  {
   "cell_type": "markdown",
   "metadata": {},
   "source": [
    "Adding the churn column for each user to be used as the label column"
   ]
  },
  {
   "cell_type": "code",
   "execution_count": 57,
   "metadata": {},
   "outputs": [],
   "source": [
    "user_churn = user_log.groupBy(col('userId')).agg(Fmax(col('Churn'))).withColumnRenamed(\"max(Churn)\", \"Churn\")\n",
    "\n",
    "df_song_thumbs_up_down_tot_fr_log_err_ch = df_song_thumbs_up_down_tot_fr_log_err.join(user_churn, on=['userId'])"
   ]
  },
  {
   "cell_type": "code",
   "execution_count": 74,
   "metadata": {},
   "outputs": [
    {
     "name": "stdout",
     "output_type": "stream",
     "text": [
      "+------+-----+-------------+---------------+----------------+------------+-----------+-----------+-----+\n",
      "|userId|Songs|countThumbsUp|countThumbsDown|countTotalThumbs|countFriends|countLogins|countErrors|Churn|\n",
      "+------+-----+-------------+---------------+----------------+------------+-----------+-----------+-----+\n",
      "|100010|  275|           17|              5|              22|           4|          7|          0|    0|\n",
      "|200002|  387|           21|              6|              27|           4|          6|          0|    0|\n",
      "+------+-----+-------------+---------------+----------------+------------+-----------+-----------+-----+\n",
      "only showing top 2 rows\n",
      "\n"
     ]
    }
   ],
   "source": [
    "df_song_thumbs_up_down_tot_fr_log_err_ch.show(2)"
   ]
  },
  {
   "cell_type": "code",
   "execution_count": 75,
   "metadata": {},
   "outputs": [
    {
     "data": {
      "text/plain": [
       "DataFrame[userId: string, Songs: bigint, countThumbsUp: bigint, countThumbsDown: bigint, countTotalThumbs: int, countFriends: bigint, countLogins: bigint, countErrors: bigint, Churn: int]"
      ]
     },
     "execution_count": 75,
     "metadata": {},
     "output_type": "execute_result"
    }
   ],
   "source": [
    "df_song_thumbs_up_down_tot_fr_log_err_ch"
   ]
  },
  {
   "cell_type": "code",
   "execution_count": 41,
   "metadata": {},
   "outputs": [],
   "source": [
    "df = df_song_thumbs_up_down_tot_fr_log_err_ch.toPandas()\n",
    "churn = df[df.Churn==1]\n",
    "noChurn = df[df.Churn==0]"
   ]
  },
  {
   "cell_type": "code",
   "execution_count": 36,
   "metadata": {},
   "outputs": [
    {
     "data": {
      "text/html": [
       "<div>\n",
       "<style scoped>\n",
       "    .dataframe tbody tr th:only-of-type {\n",
       "        vertical-align: middle;\n",
       "    }\n",
       "\n",
       "    .dataframe tbody tr th {\n",
       "        vertical-align: top;\n",
       "    }\n",
       "\n",
       "    .dataframe thead th {\n",
       "        text-align: right;\n",
       "    }\n",
       "</style>\n",
       "<table border=\"1\" class=\"dataframe\">\n",
       "  <thead>\n",
       "    <tr style=\"text-align: right;\">\n",
       "      <th></th>\n",
       "      <th>userId</th>\n",
       "      <th>Songs</th>\n",
       "      <th>countThumbsUp</th>\n",
       "      <th>countThumbsDown</th>\n",
       "      <th>countTotalThumbs</th>\n",
       "      <th>countFriends</th>\n",
       "      <th>countLogins</th>\n",
       "      <th>countErrors</th>\n",
       "      <th>Churn</th>\n",
       "    </tr>\n",
       "  </thead>\n",
       "  <tbody>\n",
       "    <tr>\n",
       "      <th>2</th>\n",
       "      <td>125</td>\n",
       "      <td>8</td>\n",
       "      <td>0</td>\n",
       "      <td>0</td>\n",
       "      <td>0</td>\n",
       "      <td>0</td>\n",
       "      <td>1</td>\n",
       "      <td>0</td>\n",
       "      <td>1</td>\n",
       "    </tr>\n",
       "    <tr>\n",
       "      <th>3</th>\n",
       "      <td>51</td>\n",
       "      <td>2111</td>\n",
       "      <td>100</td>\n",
       "      <td>21</td>\n",
       "      <td>121</td>\n",
       "      <td>28</td>\n",
       "      <td>10</td>\n",
       "      <td>1</td>\n",
       "      <td>1</td>\n",
       "    </tr>\n",
       "    <tr>\n",
       "      <th>7</th>\n",
       "      <td>54</td>\n",
       "      <td>2841</td>\n",
       "      <td>163</td>\n",
       "      <td>29</td>\n",
       "      <td>192</td>\n",
       "      <td>33</td>\n",
       "      <td>37</td>\n",
       "      <td>1</td>\n",
       "      <td>1</td>\n",
       "    </tr>\n",
       "    <tr>\n",
       "      <th>10</th>\n",
       "      <td>100014</td>\n",
       "      <td>257</td>\n",
       "      <td>17</td>\n",
       "      <td>3</td>\n",
       "      <td>20</td>\n",
       "      <td>6</td>\n",
       "      <td>6</td>\n",
       "      <td>0</td>\n",
       "      <td>1</td>\n",
       "    </tr>\n",
       "    <tr>\n",
       "      <th>12</th>\n",
       "      <td>101</td>\n",
       "      <td>1797</td>\n",
       "      <td>86</td>\n",
       "      <td>16</td>\n",
       "      <td>102</td>\n",
       "      <td>29</td>\n",
       "      <td>10</td>\n",
       "      <td>3</td>\n",
       "      <td>1</td>\n",
       "    </tr>\n",
       "  </tbody>\n",
       "</table>\n",
       "</div>"
      ],
      "text/plain": [
       "    userId  Songs  countThumbsUp  countThumbsDown  countTotalThumbs  \\\n",
       "2      125      8              0                0                 0   \n",
       "3       51   2111            100               21               121   \n",
       "7       54   2841            163               29               192   \n",
       "10  100014    257             17                3                20   \n",
       "12     101   1797             86               16               102   \n",
       "\n",
       "    countFriends  countLogins  countErrors  Churn  \n",
       "2              0            1            0      1  \n",
       "3             28           10            1      1  \n",
       "7             33           37            1      1  \n",
       "10             6            6            0      1  \n",
       "12            29           10            3      1  "
      ]
     },
     "execution_count": 36,
     "metadata": {},
     "output_type": "execute_result"
    }
   ],
   "source": [
    "churn.head()"
   ]
  },
  {
   "cell_type": "code",
   "execution_count": 43,
   "metadata": {},
   "outputs": [
    {
     "data": {
      "image/png": "[encoded data removed]",
      "text/plain": [
       "<matplotlib.figure.Figure at 0x7f87010c09e8>"
      ]
     },
     "metadata": {
      "needs_background": "light"
     },
     "output_type": "display_data"
    }
   ],
   "source": [
    "plot_dict = {'Active': noChurn.countThumbsUp.values, 'Churned': churn.countThumbsUp.values}\n",
    "\n",
    "plt.scatter(noChurn.countThumbsUp,noChurn.countThumbsDown,color='yellow',label='Active')\n",
    "plt.scatter(churn.countThumbsUp,churn.countThumbsDown,color='purple',label='Churned')\n",
    "\n",
    "plt.ylabel('Thumbs Down')\n",
    "plt.xlabel('Thumbs Up')\n",
    "plt.title('Scatter plot of Thumbs Up vs Thumbs Down')\n",
    "plt.legend(loc='lower right')\n",
    "plt.show()"
   ]
  },
  {
   "cell_type": "code",
   "execution_count": null,
   "metadata": {},
   "outputs": [],
   "source": []
  },
  {
   "cell_type": "markdown",
   "metadata": {},
   "source": [
    "# Modeling"
   ]
  },
  {
   "cell_type": "markdown",
   "metadata": {},
   "source": [
    "In this section, I prepare the dataset created by converting it into the suitable vector format for training and scaling the data. I then compare the usage of different classification models on the training set and measure their results on the testing set"
   ]
  },
  {
   "cell_type": "code",
   "execution_count": 58,
   "metadata": {},
   "outputs": [],
   "source": [
    "# drop userId column as it will not help in the modeling process\n",
    "df_final = df_song_thumbs_up_down_tot_fr_log_err_ch.drop(\"userId\")"
   ]
  },
  {
   "cell_type": "code",
   "execution_count": 186,
   "metadata": {},
   "outputs": [
    {
     "data": {
      "text/plain": [
       "['Songs',\n",
       " 'countThumbsUp',\n",
       " 'countThumbsDown',\n",
       " 'countTotalThumbs',\n",
       " 'countFriends',\n",
       " 'countLogins',\n",
       " 'countErrors']"
      ]
     },
     "execution_count": 186,
     "metadata": {},
     "output_type": "execute_result"
    }
   ],
   "source": [
    "df_final.columns[:-1]"
   ]
  },
  {
   "cell_type": "code",
   "execution_count": 59,
   "metadata": {},
   "outputs": [],
   "source": [
    "# Combine the features into a feature vector to be used by the machine learning models\n",
    "assembler2 = VectorAssembler(inputCols=df_final.columns[:-1], outputCol=\"featVec\")\n",
    "df_final_vec = assembler2.transform(df_final)"
   ]
  },
  {
   "cell_type": "code",
   "execution_count": 188,
   "metadata": {},
   "outputs": [
    {
     "name": "stdout",
     "output_type": "stream",
     "text": [
      "+-----+-------------+---------------+----------------+------------+-----------+-----------+-----+--------------------+\n",
      "|Songs|countThumbsUp|countThumbsDown|countTotalThumbs|countFriends|countLogins|countErrors|Churn|             featVec|\n",
      "+-----+-------------+---------------+----------------+------------+-----------+-----------+-----+--------------------+\n",
      "|  275|           17|              5|              22|           4|          7|          0|    0|[275.0,17.0,5.0,2...|\n",
      "|  387|           21|              6|              27|           4|          6|          0|    0|[387.0,21.0,6.0,2...|\n",
      "|    8|            0|              0|               0|           0|          1|          0|    1| (7,[0,5],[8.0,1.0])|\n",
      "| 2111|          100|             21|             121|          28|         10|          1|    1|[2111.0,100.0,21....|\n",
      "| 4079|          171|             41|             212|          74|         29|          6|    0|[4079.0,171.0,41....|\n",
      "|  150|            7|              1|               8|           1|          7|          1|    0|[150.0,7.0,1.0,8....|\n",
      "| 1914|           81|             14|              95|          31|         15|          2|    0|[1914.0,81.0,14.0...|\n",
      "| 2841|          163|             29|             192|          33|         37|          1|    1|[2841.0,163.0,29....|\n",
      "|  820|           58|              3|              61|          11|          6|          3|    0|[820.0,58.0,3.0,6...|\n",
      "| 1928|           96|             17|             113|          41|         16|          3|    0|[1928.0,96.0,17.0...|\n",
      "|  257|           17|              3|              20|           6|          6|          0|    1|[257.0,17.0,3.0,2...|\n",
      "|   84|           11|              0|              11|           3|          3|          0|    0|[84.0,11.0,0.0,11...|\n",
      "| 1797|           86|             16|             102|          29|         10|          3|    1|[1797.0,86.0,16.0...|\n",
      "|  647|           40|              9|              49|           6|         16|          1|    0|[647.0,40.0,9.0,4...|\n",
      "| 2070|           95|             24|             119|          41|         15|          1|    0|[2070.0,95.0,24.0...|\n",
      "| 3632|          303|             28|             331|          63|         63|          5|    0|[3632.0,303.0,28....|\n",
      "| 3028|          154|             22|             176|          47|         34|          0|    1|[3028.0,154.0,22....|\n",
      "| 1125|           72|              9|              81|          12|          9|          4|    0|[1125.0,72.0,9.0,...|\n",
      "|  230|           11|              5|              16|           7|          5|          2|    1|[230.0,11.0,5.0,1...|\n",
      "| 3573|          166|             25|             191|          52|         47|          7|    0|[3573.0,166.0,25....|\n",
      "+-----+-------------+---------------+----------------+------------+-----------+-----------+-----+--------------------+\n",
      "only showing top 20 rows\n",
      "\n"
     ]
    }
   ],
   "source": [
    "df_final_vec.show()"
   ]
  },
  {
   "cell_type": "code",
   "execution_count": 60,
   "metadata": {},
   "outputs": [],
   "source": [
    "# Scaling the feature vector using min-max scaling\n",
    "scaler = MinMaxScaler(inputCol=\"featVec\", outputCol=\"featVecMinMaxScaled\")\n",
    "scalerModel = scaler.fit(df_final_vec)\n",
    "df_final_vec_scaled = scalerModel.transform(df_final_vec)"
   ]
  },
  {
   "cell_type": "code",
   "execution_count": 190,
   "metadata": {},
   "outputs": [
    {
     "name": "stdout",
     "output_type": "stream",
     "text": [
      "+-----+-------------+---------------+----------------+------------+-----------+-----------+-----+--------------------+--------------------+\n",
      "|Songs|countThumbsUp|countThumbsDown|countTotalThumbs|countFriends|countLogins|countErrors|Churn|             featVec| featVecMinMaxScaled|\n",
      "+-----+-------------+---------------+----------------+------------+-----------+-----------+-----+--------------------+--------------------+\n",
      "|  275|           17|              5|              22|           4|          7|          0|    0|[275.0,17.0,5.0,2...|[0.03400425053131...|\n",
      "|  387|           21|              6|              27|           4|          6|          0|    0|[387.0,21.0,6.0,2...|[0.04800600075009...|\n",
      "|    8|            0|              0|               0|           0|          1|          0|    1| (7,[0,5],[8.0,1.0])|[6.25078134766845...|\n",
      "| 2111|          100|             21|             121|          28|         10|          1|    1|[2111.0,100.0,21....|[0.26353294161770...|\n",
      "| 4079|          171|             41|             212|          74|         29|          6|    0|[4079.0,171.0,41....|[0.50956369546193...|\n",
      "|  150|            7|              1|               8|           1|          7|          1|    0|[150.0,7.0,1.0,8....|[0.01837729716214...|\n",
      "| 1914|           81|             14|              95|          31|         15|          2|    0|[1914.0,81.0,14.0...|[0.23890486310788...|\n",
      "| 2841|          163|             29|             192|          33|         37|          1|    1|[2841.0,163.0,29....|[0.35479434929366...|\n",
      "|  820|           58|              3|              61|          11|          6|          3|    0|[820.0,58.0,3.0,6...|[0.10213776722090...|\n",
      "| 1928|           96|             17|             113|          41|         16|          3|    0|[1928.0,96.0,17.0...|[0.24065508188523...|\n",
      "|  257|           17|              3|              20|           6|          6|          0|    1|[257.0,17.0,3.0,2...|[0.03175396924615...|\n",
      "|   84|           11|              0|              11|           3|          3|          0|    0|[84.0,11.0,0.0,11...|[0.01012626578322...|\n",
      "| 1797|           86|             16|             102|          29|         10|          3|    1|[1797.0,86.0,16.0...|[0.22427803475434...|\n",
      "|  647|           40|              9|              49|           6|         16|          1|    0|[647.0,40.0,9.0,4...|[0.08051006375796...|\n",
      "| 2070|           95|             24|             119|          41|         15|          1|    0|[2070.0,95.0,24.0...|[0.25840730091261...|\n",
      "| 3632|          303|             28|             331|          63|         63|          5|    0|[3632.0,303.0,28....|[0.45368171021377...|\n",
      "| 3028|          154|             22|             176|          47|         34|          0|    1|[3028.0,154.0,22....|[0.37817227153394...|\n",
      "| 1125|           72|              9|              81|          12|          9|          4|    0|[1125.0,72.0,9.0,...|[0.14026753344168...|\n",
      "|  230|           11|              5|              16|           7|          5|          2|    1|[230.0,11.0,5.0,1...|[0.02837854731841...|\n",
      "| 3573|          166|             25|             191|          52|         47|          7|    0|[3573.0,166.0,25....|[0.44630578822352...|\n",
      "+-----+-------------+---------------+----------------+------------+-----------+-----------+-----+--------------------+--------------------+\n",
      "only showing top 20 rows\n",
      "\n"
     ]
    }
   ],
   "source": [
    "df_final_vec_scaled.show()"
   ]
  },
  {
   "cell_type": "code",
   "execution_count": 191,
   "metadata": {},
   "outputs": [
    {
     "data": {
      "text/plain": [
       "['Songs',\n",
       " 'countThumbsUp',\n",
       " 'countThumbsDown',\n",
       " 'countTotalThumbs',\n",
       " 'countFriends',\n",
       " 'countLogins',\n",
       " 'countErrors',\n",
       " 'Churn',\n",
       " 'featVec',\n",
       " 'featVecMinMaxScaled']"
      ]
     },
     "execution_count": 191,
     "metadata": {},
     "output_type": "execute_result"
    }
   ],
   "source": [
    "df_final_vec_scaled.columns"
   ]
  },
  {
   "cell_type": "code",
   "execution_count": 61,
   "metadata": {},
   "outputs": [],
   "source": [
    "df_final_vec_scaled = df_final_vec_scaled.withColumnRenamed('Churn', 'label')\n",
    "df_final_vec_scaled = df_final_vec_scaled.withColumnRenamed('featVecMinMaxScaled', 'features')"
   ]
  },
  {
   "cell_type": "code",
   "execution_count": 62,
   "metadata": {},
   "outputs": [
    {
     "name": "stdout",
     "output_type": "stream",
     "text": [
      "+--------------------+-----+\n",
      "|            features|label|\n",
      "+--------------------+-----+\n",
      "|[0.03400425053131...|    0|\n",
      "|[0.04800600075009...|    0|\n",
      "|[6.25078134766845...|    1|\n",
      "+--------------------+-----+\n",
      "only showing top 3 rows\n",
      "\n"
     ]
    }
   ],
   "source": [
    "df_final_vec_scaled.select('features', 'label').show(3)"
   ]
  },
  {
   "cell_type": "code",
   "execution_count": 34,
   "metadata": {},
   "outputs": [],
   "source": [
    "# Splitting the data into 70-30 for training-Validation and testing\n",
    "Training, Testing =  df_final_vec_scaled.randomSplit([0.7,0.3], seed=42)"
   ]
  },
  {
   "cell_type": "markdown",
   "metadata": {},
   "source": [
    "#### Given that the dataset is imbalanced, using the accuracy metric is not the correct way to measure the performance of the models. Instead, the focus will be on Precision, Recall, F-Measure and the Area under the Precision-Recall Curve"
   ]
  },
  {
   "cell_type": "code",
   "execution_count": 35,
   "metadata": {},
   "outputs": [],
   "source": [
    "evaluator = BinaryClassificationEvaluator(metricName='areaUnderPR')"
   ]
  },
  {
   "cell_type": "code",
   "execution_count": 36,
   "metadata": {},
   "outputs": [],
   "source": [
    "# Calculate a balancing ratio to account for the class imbalance\n",
    "balancing_ratio = Training.filter(Training.label==0).count()/Training.count()\n",
    "Training=Training.withColumn(\"classWeights\", when(Training.label == 1,balancing_ratio).otherwise(1-balancing_ratio))\n"
   ]
  },
  {
   "cell_type": "markdown",
   "metadata": {},
   "source": [
    "Added an extra 'classWeights' column to be used by the logistic regression model to account for the data imbalance"
   ]
  },
  {
   "cell_type": "code",
   "execution_count": 201,
   "metadata": {},
   "outputs": [
    {
     "name": "stdout",
     "output_type": "stream",
     "text": [
      "+-----+--------------------+-------------------+\n",
      "|label|            features|       classWeights|\n",
      "+-----+--------------------+-------------------+\n",
      "|    0|[0.03400425053131...|0.22699386503067487|\n",
      "|    1|[6.25078134766845...| 0.7730061349693251|\n",
      "|    0|[0.01837729716214...|0.22699386503067487|\n",
      "|    1|[0.26353294161770...| 0.7730061349693251|\n",
      "|    1|[0.35479434929366...| 0.7730061349693251|\n",
      "+-----+--------------------+-------------------+\n",
      "only showing top 5 rows\n",
      "\n"
     ]
    }
   ],
   "source": [
    "Training.show(5)"
   ]
  },
  {
   "cell_type": "code",
   "execution_count": 37,
   "metadata": {},
   "outputs": [],
   "source": [
    "# Calculate and print f1, recall and precision scores\n",
    "def cal_metrics(predictions_pandas):\n",
    "    f1 = f1_score(predictions_pandas.label, predictions_pandas.prediction)\n",
    "    recall = recall_score(predictions_pandas.label, predictions_pandas.prediction)\n",
    "    precision = precision_score(predictions_pandas.label, predictions_pandas.prediction)\n",
    "    return recall, precision, f1"
   ]
  },
  {
   "cell_type": "markdown",
   "metadata": {},
   "source": [
    "### Logistic Regression"
   ]
  },
  {
   "cell_type": "code",
   "execution_count": 38,
   "metadata": {},
   "outputs": [],
   "source": [
    "lr = LogisticRegression(maxIter=10^5, weightCol='classWeights')"
   ]
  },
  {
   "cell_type": "code",
   "execution_count": 39,
   "metadata": {},
   "outputs": [],
   "source": [
    "lrModel = lr.fit(Training)"
   ]
  },
  {
   "cell_type": "code",
   "execution_count": 40,
   "metadata": {},
   "outputs": [],
   "source": [
    "trainingSummary = lrModel.summary"
   ]
  },
  {
   "cell_type": "code",
   "execution_count": 41,
   "metadata": {},
   "outputs": [
    {
     "data": {
      "image/png": "[encoded data removed]",
      "text/plain": [
       "<matplotlib.figure.Figure at 0x7f165de7d400>"
      ]
     },
     "metadata": {
      "needs_background": "light"
     },
     "output_type": "display_data"
    }
   ],
   "source": [
    "# Plot the recall-precision curve\n",
    "pr = trainingSummary.pr.toPandas()\n",
    "plt.plot(pr['recall'], pr['precision'])\n",
    "plt.xlabel('Recall')\n",
    "plt.ylabel('Precision')\n",
    "plt.show()"
   ]
  },
  {
   "cell_type": "code",
   "execution_count": 42,
   "metadata": {},
   "outputs": [
    {
     "data": {
      "image/png": "[encoded data removed]",
      "text/plain": [
       "<matplotlib.figure.Figure at 0x7f165ddb2320>"
      ]
     },
     "metadata": {
      "needs_background": "light"
     },
     "output_type": "display_data"
    }
   ],
   "source": [
    "# Plot the threshold-F-Measure curve\n",
    "fm = trainingSummary.fMeasureByThreshold.toPandas()\n",
    "plt.plot(fm['threshold'], fm['F-Measure'])\n",
    "plt.xlabel('Threshold')\n",
    "plt.ylabel('F-1 Score')\n",
    "plt.show()"
   ]
  },
  {
   "cell_type": "code",
   "execution_count": 43,
   "metadata": {},
   "outputs": [
    {
     "name": "stdout",
     "output_type": "stream",
     "text": [
      "F1-Score: 0.48275862068965514, Recall: 0.7777777777777778, Precision: 0.35\n"
     ]
    }
   ],
   "source": [
    "predictions_lr = lrModel.transform(Testing)\n",
    "predictions_pandas_lr = predictions_lr.toPandas()\n",
    "\n",
    "recall, precision, f1 = cal_metrics(predictions_pandas_lr)\n",
    "\n",
    "print('F1-Score: {}, Recall: {}, Precision: {}'.format(f1, recall, precision))"
   ]
  },
  {
   "cell_type": "code",
   "execution_count": 44,
   "metadata": {},
   "outputs": [
    {
     "name": "stdout",
     "output_type": "stream",
     "text": [
      "Test Area Under PR:  0.36998087532188956\n"
     ]
    }
   ],
   "source": [
    "print('Test Area Under PR: ', evaluator.evaluate(predictions_lr))"
   ]
  },
  {
   "cell_type": "code",
   "execution_count": null,
   "metadata": {},
   "outputs": [],
   "source": [
    "# Create ParamGrid for Cross Validation\n",
    "paramGrid = (ParamGridBuilder()\n",
    "             .addGrid(lr.regParam, [0.01, 0.5, 2.0])\n",
    "             .addGrid(lr.elasticNetParam, [0.0, 0.5, 1.0])\n",
    "             .addGrid(lr.maxIter, [1, 5, 10, 10^5])\n",
    "             .build())\n",
    "\n",
    "cv = CrossValidator(estimator=lr, estimatorParamMaps=paramGrid, evaluator=evaluator, numFolds=5)\n",
    "\n",
    "# Run cross validations\n",
    "cvModel = cv.fit(Training)\n",
    "predictions = cvModel.transform(Testing)\n",
    "predictions_pandas = predictions.toPandas()\n",
    "print('Test Area Under PR: ', evaluator.evaluate(predictions))"
   ]
  },
  {
   "cell_type": "code",
   "execution_count": 211,
   "metadata": {},
   "outputs": [
    {
     "name": "stdout",
     "output_type": "stream",
     "text": [
      "F1-Score: 0.4090909090909091, Recall: 0.6, Precision: 0.3103448275862069\n"
     ]
    }
   ],
   "source": [
    "recall, precision, f1 = cal_metrics(predictions_pandas)\n",
    "\n",
    "print('F1-Score: {}, Recall: {}, Precision: {}'.format(f1, recall, precision))"
   ]
  },
  {
   "cell_type": "markdown",
   "metadata": {},
   "source": [
    "### Decision Tree"
   ]
  },
  {
   "cell_type": "code",
   "execution_count": 36,
   "metadata": {},
   "outputs": [],
   "source": [
    "Dt = DecisionTreeClassifier()"
   ]
  },
  {
   "cell_type": "code",
   "execution_count": 37,
   "metadata": {},
   "outputs": [
    {
     "name": "stdout",
     "output_type": "stream",
     "text": [
      "Test Area Under PR:  0.2922686063672781\n"
     ]
    }
   ],
   "source": [
    "paramGrid_Dt = ParamGridBuilder()\\\n",
    "            .addGrid(Dt.maxDepth, [5, 10])\\\n",
    "            .addGrid(Dt.maxBins , [32,64])\\\n",
    "            .build()\n",
    "\n",
    "crossval_Dt = CrossValidator(estimator=Dt,\n",
    "                         estimatorParamMaps= paramGrid_Dt,\n",
    "                         evaluator = evaluator,\n",
    "                         numFolds = 3)\n",
    "\n",
    "cvModel_Dt = crossval_Dt.fit(Training)\n",
    "\n",
    "\n",
    "Dt_test_preds = cvModel_Dt.transform(Testing)\n",
    "predictions_pandas_Dt = Dt_test_preds.toPandas()\n",
    "print('Test Area Under PR: ', evaluator.evaluate(Dt_test_preds))"
   ]
  },
  {
   "cell_type": "code",
   "execution_count": 43,
   "metadata": {},
   "outputs": [
    {
     "name": "stdout",
     "output_type": "stream",
     "text": [
      "F1-Score: 0.23529411764705882, Recall: 0.26666666666666666, Precision: 0.21052631578947367\n"
     ]
    }
   ],
   "source": [
    "recall_Dt, precision_Dt, f1_Dt = cal_metrics(predictions_pandas_Dt)\n",
    "print('F1-Score: {}, Recall: {}, Precision: {}'.format(f1_Dt, recall_Dt, precision_Dt))"
   ]
  },
  {
   "cell_type": "markdown",
   "metadata": {},
   "source": [
    "### Random Forest"
   ]
  },
  {
   "cell_type": "code",
   "execution_count": 44,
   "metadata": {},
   "outputs": [],
   "source": [
    "Rf = RandomForestClassifier()"
   ]
  },
  {
   "cell_type": "code",
   "execution_count": 45,
   "metadata": {},
   "outputs": [
    {
     "name": "stdout",
     "output_type": "stream",
     "text": [
      "Test Area Under PR:  0.36365059349693685\n"
     ]
    }
   ],
   "source": [
    "paramGrid_Rf = ParamGridBuilder()\\\n",
    "            .addGrid(Rf.numTrees, [10,50,100])\\\n",
    "            .build()\n",
    "\n",
    "crossval_Rf =  CrossValidator(estimator=Rf,\n",
    "                         estimatorParamMaps = paramGrid_Rf,\n",
    "                         evaluator = evaluator,\n",
    "                         numFolds = 3)\n",
    "\n",
    "cvModel_Rf = crossval_Rf.fit(Training)\n",
    "\n",
    "Rf_test_preds = cvModel_Rf.transform(Testing)\n",
    "\n",
    "predictions_pandas_Rf = Rf_test_preds.toPandas()\n",
    "print('Test Area Under PR: ', evaluator.evaluate(Rf_test_preds))"
   ]
  },
  {
   "cell_type": "code",
   "execution_count": 46,
   "metadata": {},
   "outputs": [
    {
     "name": "stdout",
     "output_type": "stream",
     "text": [
      "F1-Score: 0.3, Recall: 0.2, Precision: 0.6\n"
     ]
    }
   ],
   "source": [
    "recall, precision, f1 = cal_metrics(predictions_pandas_Rf)\n",
    "print('F1-Score: {}, Recall: {}, Precision: {}'.format(f1, recall, precision))"
   ]
  },
  {
   "cell_type": "markdown",
   "metadata": {},
   "source": [
    "# Conclusion"
   ]
  },
  {
   "cell_type": "markdown",
   "metadata": {},
   "source": [
    "From the results shown, it can be seen that Logistic regression gave the best results and therefore should be used moving on.\n",
    "<br>\n",
    "\n",
    "The results however, can still be improved in many ways:\n",
    "- Creating new features that take time into consideration\n",
    "- Trying out different models such as Gradient Boost Tree Classifier\n",
    "- Trying out different tuning parameters\n",
    "- Some of the features generated here should be adjusted to take into account that some users' logs were recorded much later, towards the end of the dataset, than other users. \n",
    "- Dealing with the outliers present in the dataset if any"
   ]
  },
  {
   "cell_type": "code",
   "execution_count": null,
   "metadata": {},
   "outputs": [],
   "source": []
  }
 ],
 "metadata": {
  "kernelspec": {
   "display_name": "Python 3",
   "language": "python",
   "name": "python3"
  }
 },
 "nbformat": 4,
 "nbformat_minor": 2
}
